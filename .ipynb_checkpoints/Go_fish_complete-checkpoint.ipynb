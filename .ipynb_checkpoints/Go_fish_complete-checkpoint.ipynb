{
 "cells": [
  {
   "cell_type": "code",
   "execution_count": 50,
   "metadata": {},
   "outputs": [],
   "source": [
    "from random import shuffle\n",
    "import collections\n",
    "\n",
    "class Card:\n",
    "    suits = {'Hearts', 'Spades', 'Diamonds','Clubs'}\n",
    "    ranks = ['2', '3', '4', '5', '6', '7', '8', '9', '10', 'Jack', 'Queen', 'King', 'Ace']\n",
    "    \n",
    "    def __init__(self,suit,rank):\n",
    "        if suit in Card.suits and rank in Card.ranks:\n",
    "            self.suit = suit\n",
    "            self.rank = rank\n",
    "            self.name = '{} of {}'.format(self.rank, self.suit)\n",
    "        else:\n",
    "            raise(Exception(\"Invalid initialization\"))\n",
    "class Deck:\n",
    "    \n",
    "    def __init__(self):\n",
    "        self.pool = [Card(suit,rank)\n",
    "                     for suit in Card.suits\n",
    "                     for rank in Card.ranks]\n",
    "            \n",
    "    def deal(self, n=1):\n",
    "        return self.pool.pop(0)\n",
    "    \n",
    "class Player:\n",
    "    \n",
    "    def __init__(self, player,score = 0):\n",
    "        self.hand = collections.Counter()\n",
    "        self.player = player\n",
    "        self.score = score\n",
    "        \n",
    "def draw_card(source,hand,n=1):\n",
    "    for _ in range(0,n):\n",
    "        card = source.deal()\n",
    "        if card.rank in hand:\n",
    "            hand[card.rank] += 1\n",
    "        else:\n",
    "            hand[card.rank] = 1\n",
    "\n",
    "def check_for_pair(player):\n",
    "    for key,val in player.hand.items():\n",
    "        if val == 2:\n",
    "            player.hand[key] = 0\n",
    "            player.score += 1\n",
    "        elif val == 3:\n",
    "            player.hand[key] = 1\n",
    "            player.score += 1\n",
    "        elif val == 4:\n",
    "            player.hand[key] = 0\n",
    "            player.score += 2\n",
    "            \n",
    "def ask(asker, other):\n",
    "    ask = input('Do you have any ...?').capitalize()\n",
    "    \n",
    "    \n",
    "            \n"
   ]
  },
  {
   "cell_type": "code",
   "execution_count": 49,
   "metadata": {},
   "outputs": [
    {
     "name": "stdout",
     "output_type": "stream",
     "text": [
      "Counter({'King': 2, 'Ace': 2, '8': 1, 'Queen': 1, '10': 1, '4': 1, '3': 1, '2': 1})\n",
      "Counter({'3': 3, '9': 2, '5': 2, '7': 1, 'Ace': 1, 'Queen': 1})\n",
      "8\n",
      "1\n",
      "King\n",
      "2\n",
      "Ace\n",
      "2\n",
      "Queen\n",
      "1\n",
      "10\n",
      "1\n",
      "4\n",
      "1\n",
      "3\n",
      "1\n",
      "2\n",
      "1\n"
     ]
    }
   ],
   "source": [
    "deck = Deck()\n",
    "shuffle(deck.pool)\n",
    "player1 = Player('Will')\n",
    "player2 = Player('Liz')\n",
    "draw_card(deck,player1.hand,n=10)\n",
    "draw_card(deck,player2.hand,n=10)\n",
    "print(player1.hand)\n",
    "print(player2.hand)\n",
    "for key,val in player1.hand.items():\n",
    "    print(key)\n",
    "    print(val)\n",
    "    "
   ]
  },
  {
   "cell_type": "code",
   "execution_count": 51,
   "metadata": {},
   "outputs": [],
   "source": [
    "def ask(asker, other):\n",
    "    ask = input('Do you have any ...?').capitalize()"
   ]
  },
  {
   "cell_type": "code",
   "execution_count": null,
   "metadata": {
    "collapsed": true
   },
   "outputs": [],
   "source": []
  },
  {
   "cell_type": "code",
   "execution_count": null,
   "metadata": {
    "collapsed": true
   },
   "outputs": [],
   "source": []
  },
  {
   "cell_type": "code",
   "execution_count": null,
   "metadata": {
    "collapsed": true
   },
   "outputs": [],
   "source": []
  },
  {
   "cell_type": "code",
   "execution_count": null,
   "metadata": {
    "collapsed": true
   },
   "outputs": [],
   "source": []
  }
 ],
 "metadata": {
  "kernelspec": {
   "display_name": "Python 3",
   "language": "python",
   "name": "python3"
  },
  "language_info": {
   "codemirror_mode": {
    "name": "ipython",
    "version": 3
   },
   "file_extension": ".py",
   "mimetype": "text/x-python",
   "name": "python",
   "nbconvert_exporter": "python",
   "pygments_lexer": "ipython3",
   "version": "3.6.3"
  }
 },
 "nbformat": 4,
 "nbformat_minor": 2
}

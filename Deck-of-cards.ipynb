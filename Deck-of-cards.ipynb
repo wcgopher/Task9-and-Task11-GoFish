{
 "cells": [
  {
   "cell_type": "markdown",
   "metadata": {},
   "source": [
    "Task #9 for beginning of Monday's class. Design a Python class called Card, and then  a Python class called Deck that represents a deck of cards. The cards should have four suits (hearts spades clubs and diamonds) and go from 2 to Ace like normal playing cards.\n",
    "\n",
    "Make a list of attributes and methods that your Card and Deck classes should have, and implement them as time permits."
   ]
  },
  {
   "cell_type": "code",
   "execution_count": 13,
   "metadata": {
    "collapsed": true
   },
   "outputs": [],
   "source": [
    "class Deck():\n",
    "# // Shuffle\n",
    "# // 52 cards\n",
    "# // 13 of each suit - hearts, diamonds, spades, clubs\n",
    "# // Deal top card, random, bottom card \n",
    "\n",
    "    def __init__(self):\n",
    "        self.cards = []\n",
    "        self.create_deck()\n",
    "      \n",
    "    def create_deck(self):\n",
    "        numbers = range(1,14)\n",
    "        for i in numbers:\n",
    "            card1 = Card(i, 'hearts')\n",
    "            card2 = Card(i, 'spades')\n",
    "            card3 = Card(i, 'clubs')\n",
    "            card4 = Card(i, 'diamonds')\n",
    "            self.cards.append(card1)\n",
    "            self.cards.append(card2)\n",
    "            self.cards.append(card3)\n",
    "            self.cards.append(card4)"
   ]
  },
  {
   "cell_type": "code",
   "execution_count": 14,
   "metadata": {},
   "outputs": [
    {
     "name": "stdout",
     "output_type": "stream",
     "text": [
      "[<__main__.Card object at 0x10fe442b0>, <__main__.Card object at 0x10fe44080>, <__main__.Card object at 0x10fe44358>, <__main__.Card object at 0x10fe44128>, <__main__.Card object at 0x10fe44048>, <__main__.Card object at 0x10fe44278>, <__main__.Card object at 0x10fe442e8>, <__main__.Card object at 0x10fe44390>, <__main__.Card object at 0x10fe44320>, <__main__.Card object at 0x10fe44160>, <__main__.Card object at 0x10fe445c0>, <__main__.Card object at 0x10fe44518>, <__main__.Card object at 0x10fe44588>, <__main__.Card object at 0x10fe44550>, <__main__.Card object at 0x10fe44860>, <__main__.Card object at 0x10fe44780>, <__main__.Card object at 0x10f891f60>, <__main__.Card object at 0x10fe42048>, <__main__.Card object at 0x10fe425c0>, <__main__.Card object at 0x10fe42cc0>, <__main__.Card object at 0x10fe427f0>, <__main__.Card object at 0x10fe42710>, <__main__.Card object at 0x10fe42c88>, <__main__.Card object at 0x10fe424a8>, <__main__.Card object at 0x10fe42c18>, <__main__.Card object at 0x10fe420f0>, <__main__.Card object at 0x10fe42b70>, <__main__.Card object at 0x10fe420b8>, <__main__.Card object at 0x10fdad6a0>, <__main__.Card object at 0x10fdad240>, <__main__.Card object at 0x10fdad828>, <__main__.Card object at 0x10fe47ba8>, <__main__.Card object at 0x10fe479b0>, <__main__.Card object at 0x10fe477b8>, <__main__.Card object at 0x10fe47f60>, <__main__.Card object at 0x10fe47f98>, <__main__.Card object at 0x10fe47eb8>, <__main__.Card object at 0x10fe47f28>, <__main__.Card object at 0x10fe47cc0>, <__main__.Card object at 0x10fe47780>, <__main__.Card object at 0x10fe47d30>, <__main__.Card object at 0x10fe47b00>, <__main__.Card object at 0x10fe47b70>, <__main__.Card object at 0x10fe47d68>, <__main__.Card object at 0x10fe479e8>, <__main__.Card object at 0x10fe47dd8>, <__main__.Card object at 0x10fe47748>, <__main__.Card object at 0x10fe47be0>, <__main__.Card object at 0x10fe47860>, <__main__.Card object at 0x10fe47b38>, <__main__.Card object at 0x10fe47ef0>, <__main__.Card object at 0x10fe47cf8>]\n"
     ]
    }
   ],
   "source": [
    "my_deck = Deck()\n",
    "print(my_deck.cards)"
   ]
  },
  {
   "cell_type": "code",
   "execution_count": 15,
   "metadata": {},
   "outputs": [
    {
     "name": "stdout",
     "output_type": "stream",
     "text": [
      "[<__main__.Card object at 0x10fe442b0>, <__main__.Card object at 0x10fe44080>, <__main__.Card object at 0x10fe44358>, <__main__.Card object at 0x10fe44128>, <__main__.Card object at 0x10fe44048>, <__main__.Card object at 0x10fe44278>, <__main__.Card object at 0x10fe442e8>, <__main__.Card object at 0x10fe44390>, <__main__.Card object at 0x10fe44320>, <__main__.Card object at 0x10fe44160>, <__main__.Card object at 0x10fe445c0>, <__main__.Card object at 0x10fe44518>, <__main__.Card object at 0x10fe44588>, <__main__.Card object at 0x10fe44550>, <__main__.Card object at 0x10fe44860>, <__main__.Card object at 0x10fe44780>, <__main__.Card object at 0x10f891f60>, <__main__.Card object at 0x10fe42048>, <__main__.Card object at 0x10fe425c0>, <__main__.Card object at 0x10fe42cc0>, <__main__.Card object at 0x10fe427f0>, <__main__.Card object at 0x10fe42710>, <__main__.Card object at 0x10fe42c88>, <__main__.Card object at 0x10fe424a8>, <__main__.Card object at 0x10fe42c18>, <__main__.Card object at 0x10fe420f0>, <__main__.Card object at 0x10fe42b70>, <__main__.Card object at 0x10fe420b8>, <__main__.Card object at 0x10fdad6a0>, <__main__.Card object at 0x10fdad240>, <__main__.Card object at 0x10fdad828>, <__main__.Card object at 0x10fe47ba8>, <__main__.Card object at 0x10fe479b0>, <__main__.Card object at 0x10fe477b8>, <__main__.Card object at 0x10fe47f60>, <__main__.Card object at 0x10fe47f98>, <__main__.Card object at 0x10fe47eb8>, <__main__.Card object at 0x10fe47f28>, <__main__.Card object at 0x10fe47cc0>, <__main__.Card object at 0x10fe47780>, <__main__.Card object at 0x10fe47d30>, <__main__.Card object at 0x10fe47b00>, <__main__.Card object at 0x10fe47b70>, <__main__.Card object at 0x10fe47d68>, <__main__.Card object at 0x10fe479e8>, <__main__.Card object at 0x10fe47dd8>, <__main__.Card object at 0x10fe47748>, <__main__.Card object at 0x10fe47be0>, <__main__.Card object at 0x10fe47860>, <__main__.Card object at 0x10fe47b38>, <__main__.Card object at 0x10fe47ef0>, <__main__.Card object at 0x10fe47cf8>]\n"
     ]
    }
   ],
   "source": [
    "print(my_deck.cards)"
   ]
  },
  {
   "cell_type": "code",
   "execution_count": 16,
   "metadata": {
    "collapsed": true
   },
   "outputs": [],
   "source": [
    "lst1 =[1,2,2,3]"
   ]
  },
  {
   "cell_type": "code",
   "execution_count": 7,
   "metadata": {},
   "outputs": [
    {
     "ename": "SyntaxError",
     "evalue": "'return' outside function (<ipython-input-7-bb706ed48369>, line 46)",
     "output_type": "error",
     "traceback": [
      "\u001b[0;36m  File \u001b[0;32m\"<ipython-input-7-bb706ed48369>\"\u001b[0;36m, line \u001b[0;32m46\u001b[0m\n\u001b[0;31m    return hand\u001b[0m\n\u001b[0m    ^\u001b[0m\n\u001b[0;31mSyntaxError\u001b[0m\u001b[0;31m:\u001b[0m 'return' outside function\n"
     ]
    }
   ],
   "source": [
    "\n",
    "# Your last C# code is saved below:\n",
    "# // # Task #9 \n",
    "# // # Design a Python class called Card\n",
    "# // # Design a Python class called Deck that represents a deck of cards. \n",
    "# // # The cards should have four suits (hearts spades clubs and diamonds) and go from 2 to Ace like normal playing cards.\n",
    "\n",
    "# // # Make a list of methods that your Card and Deck classes should have, and implement them as time permits\n",
    "from random import shuffle\n",
    "import itertools\n",
    "\n",
    "class Deck():\n",
    "# // Shuffle\n",
    "# // Deal top card, random, bottom card \n",
    "\n",
    "    def __init__(self):\n",
    "        self.cards = []\n",
    "        self.add_deck()\n",
    "        self.shuffle()\n",
    "      \n",
    "    def add_deck(self):\n",
    "        numbers = range(1,14)\n",
    "        for i in numbers:\n",
    "            card1 = Card(i, 'hearts')\n",
    "            card2 = Card(i, 'spades')\n",
    "            card3 = Card(i, 'clubs')\n",
    "            card4 = Card(i, 'diamonds')\n",
    "            self.cards.append(card1)\n",
    "            self.cards.append(card2)\n",
    "            self.cards.append(card3)\n",
    "            self.cards.append(card4)\n",
    "        \n",
    "    def shuffle(self):\n",
    "        shuffle(self.cards)\n",
    "    \n",
    "    def deal(self, n=1, location = 'top'):\n",
    "        hand = []\n",
    "    for _ in range(0,n+1):\n",
    "        if len(self.cards) > 0:\n",
    "            if location == 'top':\n",
    "                hand.append(self.cards.pop(0))\n",
    "            elif location == 'bottom':\n",
    "                hand.append(self.cards.pop())        \n",
    "        else:\n",
    "            print(\"No more cards left to deal.\")\n",
    "    return hand\n",
    "        \n",
    "      \n",
    "\n",
    "class Card():\n",
    "    def __init__(self,value,suit):\n",
    "        self.value = value\n",
    "        self.suit = suit\n",
    "      \n",
    "    def __str__(self):\n",
    "        return \"{} of {}\".format(self.value,self.suit)\n",
    "        \n",
    "deck = Deck()\n",
    "player_1_cards = deck.deal(n=5)\n",
    "print(player_1_cards)"
   ]
  },
  {
   "cell_type": "code",
   "execution_count": 18,
   "metadata": {},
   "outputs": [
    {
     "name": "stdout",
     "output_type": "stream",
     "text": [
      "[<__main__.Card object at 0x10fe63390>]\n",
      "[<__main__.Card object at 0x10fe63390>, <__main__.Card object at 0x10fe78f28>]\n",
      "[<__main__.Card object at 0x10fe63390>, <__main__.Card object at 0x10fe78f28>, <__main__.Card object at 0x10fe63080>]\n",
      "[<__main__.Card object at 0x10fe63390>, <__main__.Card object at 0x10fe78f28>, <__main__.Card object at 0x10fe63080>, <__main__.Card object at 0x10fe78da0>]\n",
      "[<__main__.Card object at 0x10fe63390>, <__main__.Card object at 0x10fe78f28>, <__main__.Card object at 0x10fe63080>, <__main__.Card object at 0x10fe78da0>, <__main__.Card object at 0x10fe631d0>]\n",
      "10 of hearts\n",
      "5 of spades\n",
      "6 of clubs\n",
      "3 of clubs\n",
      "8 of hearts\n"
     ]
    }
   ],
   "source": [
    "\n",
    "# Your last C# code is saved below:\n",
    "# // # Task #9 \n",
    "# // # Design a Python class called Card\n",
    "# // # Design a Python class called Deck that represents a deck of cards. \n",
    "# // # The cards should have four suits (hearts spades clubs and diamonds) and go from 2 to Ace like normal playing cards.\n",
    "\n",
    "# // # Make a list of methods that your Card and Deck classes should have, and implement them as time permits\n",
    "from random import shuffle\n",
    "import itertools\n",
    "\n",
    "class Deck():\n",
    "# // Shuffle\n",
    "# // Deal top card, random, bottom card \n",
    "\n",
    "    def __init__(self):\n",
    "        self.cards = []\n",
    "        self.add_deck()\n",
    "        self.shuffle()\n",
    "      \n",
    "    def add_deck(self):\n",
    "      numbers = range(1,14)\n",
    "      for i in numbers:\n",
    "        card1 = Card(i, 'hearts')\n",
    "        card2 = Card(i, 'spades')\n",
    "        card3 = Card(i, 'clubs')\n",
    "        card4 = Card(i, 'diamonds')\n",
    "        self.cards.append(card1)\n",
    "        self.cards.append(card2)\n",
    "        self.cards.append(card3)\n",
    "        self.cards.append(card4)\n",
    "        \n",
    "    def shuffle(self):\n",
    "        shuffle(self.cards)\n",
    "    \n",
    "    def deal(self, location = 'top'):\n",
    "      hand = []\n",
    "      for _ in range(0,5):\n",
    "        if len(self.cards) > 0:\n",
    "          if location == 'top':\n",
    "            hand.append(self.cards.pop(0))\n",
    "            print(hand)\n",
    "          elif location == 'bottom':\n",
    "            hand.append(self.cards.pop())        \n",
    "        else:\n",
    "          print(\"No more cards left to deal.\")\n",
    "      return hand\n",
    "        \n",
    "      \n",
    "\n",
    "\n",
    "class Card():\n",
    "    def __init__(self,value,suit):\n",
    "        self.value = value\n",
    "        self.suit = suit\n",
    "      \n",
    "    def __str__(self):\n",
    "        return \"{} of {}\".format(self.value,self.suit)\n",
    "\n",
    "\n",
    "        \n",
    "deck = Deck()\n",
    "player_1_cards = deck.deal()\n",
    "for i in player_1_cards:\n",
    "    print(i)\n",
    "\n",
    "# for i in deck.cards:\n",
    "#   print(i)\n",
    "\n",
    "# card1 = Card(1,'heart')\n",
    "# print(card1)"
   ]
  },
  {
   "cell_type": "code",
   "execution_count": 19,
   "metadata": {},
   "outputs": [
    {
     "ename": "IndentationError",
     "evalue": "expected an indented block (<ipython-input-19-bc37c7e3c4fb>, line 79)",
     "output_type": "error",
     "traceback": [
      "\u001b[0;36m  File \u001b[0;32m\"<ipython-input-19-bc37c7e3c4fb>\"\u001b[0;36m, line \u001b[0;32m79\u001b[0m\n\u001b[0;31m    go_fish()\u001b[0m\n\u001b[0m             ^\u001b[0m\n\u001b[0;31mIndentationError\u001b[0m\u001b[0;31m:\u001b[0m expected an indented block\n"
     ]
    }
   ],
   "source": [
    "\n",
    "# Your last C# code is saved below:\n",
    "# // # Task #9 \n",
    "# // # Design a Python class called Card\n",
    "# // # Design a Python class called Deck that represents a deck of cards. \n",
    "# // # The cards should have four suits (hearts spades clubs and diamonds) and go from 2 to Ace like normal playing cards.\n",
    "\n",
    "# // # Make a list of methods that your Card and Deck classes should have, and implement them as time permits\n",
    "from random import shuffle\n",
    "import itertools\n",
    "import numpy as np\n",
    "\n",
    "class Deck():\n",
    "# // Shuffle\n",
    "# // Deal top card, random, bottom card \n",
    "\n",
    "    def __init__(self):\n",
    "        self.cards = []\n",
    "        self.add_deck()\n",
    "        self.shuffle()\n",
    "      \n",
    "    def add_deck(self):\n",
    "      numbers = range(1,14)\n",
    "      for i in numbers:\n",
    "        card1 = Card(i, 'hearts')\n",
    "        card2 = Card(i, 'spades')\n",
    "        card3 = Card(i, 'clubs')\n",
    "        card4 = Card(i, 'diamonds')\n",
    "        self.cards.append(card1)\n",
    "        self.cards.append(card2)\n",
    "        self.cards.append(card3)\n",
    "        self.cards.append(card4)\n",
    "        \n",
    "    def shuffle(self):\n",
    "        shuffle(self.cards)\n",
    "    \n",
    "    def deal(self, n = 1, location = 'top'):\n",
    "      hand = []\n",
    "      for _ in range(0,n):\n",
    "        if len(self.cards) > 0:\n",
    "          if location == 'top':\n",
    "            hand.append(self.cards.pop(0))\n",
    "            print(hand)\n",
    "          elif location == 'bottom':\n",
    "            hand.append(self.cards.pop())        \n",
    "        else:\n",
    "          print(\"No more cards left to deal.\")\n",
    "      return hand\n",
    "        \n",
    "      \n",
    "\n",
    "\n",
    "class Card():\n",
    "    def __init__(self,value,suit):\n",
    "      self.value = value\n",
    "      self.suit = suit\n",
    "      \n",
    "    def __str__(self):\n",
    "      return \"{} of {}\".format(self.value,self.suit)\n",
    "        \n",
    "def print_cards(cards):\n",
    "  for i in cards:\n",
    "    print(i)\n",
    "    \n",
    "def go_fish():\n",
    "  deck = Deck()\n",
    "  player1_hand = array(deck.deal(n=5))\n",
    "  player2_hand = array(deck.deal(n=5))\n",
    "  print(\"\\nPlayer 1 has:\")\n",
    "  print_cards(player1_hand)\n",
    "  print(\"\\nPlayer 2 has:\")\n",
    "  print_cards(player2_hand)\n",
    "  choice = int(input(\"Player 1, Make a choice: \"))\n",
    "  if np.any(player_1_hand[:] == choice):\n",
    "    \n",
    "#   if [thing in player2_hand if thing.value == choice]:\n",
    "    \n",
    "    \n",
    "go_fish()"
   ]
  },
  {
   "cell_type": "code",
   "execution_count": 4,
   "metadata": {},
   "outputs": [
    {
     "name": "stdout",
     "output_type": "stream",
     "text": [
      "[<__main__.Card object at 0x10b468198>]\n",
      "[<__main__.Card object at 0x10b468198>, <__main__.Card object at 0x10b468390>]\n",
      "[<__main__.Card object at 0x10b468198>, <__main__.Card object at 0x10b468390>, <__main__.Card object at 0x10b472b70>]\n",
      "[<__main__.Card object at 0x10b468198>, <__main__.Card object at 0x10b468390>, <__main__.Card object at 0x10b472b70>, <__main__.Card object at 0x10b472da0>]\n",
      "[<__main__.Card object at 0x10b468198>, <__main__.Card object at 0x10b468390>, <__main__.Card object at 0x10b472b70>, <__main__.Card object at 0x10b472da0>, <__main__.Card object at 0x10b472b38>]\n",
      "[<__main__.Card object at 0x10b4680b8>]\n",
      "[<__main__.Card object at 0x10b4680b8>, <__main__.Card object at 0x10b472b00>]\n",
      "[<__main__.Card object at 0x10b4680b8>, <__main__.Card object at 0x10b472b00>, <__main__.Card object at 0x10b472f28>]\n",
      "[<__main__.Card object at 0x10b4680b8>, <__main__.Card object at 0x10b472b00>, <__main__.Card object at 0x10b472f28>, <__main__.Card object at 0x10b472ba8>]\n",
      "[<__main__.Card object at 0x10b4680b8>, <__main__.Card object at 0x10b472b00>, <__main__.Card object at 0x10b472f28>, <__main__.Card object at 0x10b472ba8>, <__main__.Card object at 0x10b4682b0>]\n",
      "\n",
      "Player 1 has:\n",
      "8 of diamonds\n",
      "11 of hearts\n",
      "2 of hearts\n",
      "4 of clubs\n",
      "1 of diamonds\n",
      "\n",
      "Player 2 has:\n",
      "7 of diamonds\n",
      "1 of clubs\n",
      "6 of spades\n",
      "2 of spades\n",
      "10 of hearts\n"
     ]
    }
   ],
   "source": [
    "\n",
    "# Your last C# code is saved below:\n",
    "# // # Task #9 \n",
    "# // # Design a Python class called Card\n",
    "# // # Design a Python class called Deck that represents a deck of cards. \n",
    "# // # The cards should have four suits (hearts spades clubs and diamonds) and go from 2 to Ace like normal playing cards.\n",
    "\n",
    "# // # Make a list of methods that your Card and Deck classes should have, and implement them as time permits\n",
    "from random import shuffle\n",
    "import itertools\n",
    "import collections\n",
    "\n",
    "class Deck():\n",
    "# // Shuffle\n",
    "# // Deal top card, random, bottom card \n",
    "\n",
    "    def __init__(self):\n",
    "        self.cards = []\n",
    "        self.add_deck()\n",
    "        self.shuffle()\n",
    "      \n",
    "    def add_deck(self):\n",
    "        numbers = range(1,14)\n",
    "        for i in numbers:\n",
    "            card1 = Card(i, 'hearts')\n",
    "            card2 = Card(i, 'spades')\n",
    "            card3 = Card(i, 'clubs')\n",
    "            card4 = Card(i, 'diamonds')\n",
    "            self.cards.append(card1)\n",
    "            self.cards.append(card2)\n",
    "            self.cards.append(card3)\n",
    "            self.cards.append(card4)\n",
    "        \n",
    "    def shuffle(self):\n",
    "        shuffle(self.cards)\n",
    "    \n",
    "    def deal(self, n = 1, location = 'top'):\n",
    "        hand = []\n",
    "        for _ in range(0,n):\n",
    "            if len(self.cards) > 0:\n",
    "                if location == 'top':\n",
    "                    hand.append(self.cards.pop(0))\n",
    "                    print(hand)\n",
    "                elif location == 'bottom':\n",
    "                    hand.append(self.cards.pop())        \n",
    "            else:\n",
    "                print(\"No more cards left to deal.\")\n",
    "        return hand\n",
    "        \n",
    "      \n",
    "\n",
    "\n",
    "class Card():\n",
    "    def __init__(self,value,suit):\n",
    "        self.value = value\n",
    "        self.suit = suit\n",
    "      \n",
    "    def __str__(self):\n",
    "        return \"{} of {}\".format(self.value,self.suit)\n",
    "        \n",
    "def print_cards(player,cards):\n",
    "    print(\"\\nPlayer {} has:\".format(player))\n",
    "    for i in cards:\n",
    "        print(i)\n",
    "    \n",
    "def go_fish():\n",
    "    books = {\n",
    "    \"player_1\": [],\n",
    "    \"player_2\": []\n",
    "  }\n",
    "    deck = Deck()\n",
    "    player1_hand = deck.deal(n=5)\n",
    "    player2_hand = deck.deal(n=5)\n",
    "    print_cards(\"1\", player1_hand)\n",
    "    print_cards(\"2\", player2_hand)\n",
    "  choice = int(input(\"Player 1, Make a choice: \"))\n",
    "\n",
    "  for card in player2_hand:\n",
    "    if card.value == choice:\n",
    "      player2_hand.remove(card)\n",
    "      player1_hand.append(card)\n",
    "  \n",
    "  else:\n",
    "    print('go fish')\n",
    "  \n",
    "    counter = {}\n",
    "    values = []\n",
    "    for card in player1_hand:\n",
    "        values.append(card.value)\n",
    "  \n",
    "#     print(collections.Counter(values))\n",
    "    \n",
    "#   print(player1_hand)\n",
    "#   print(player2_hand)\n",
    "    \n",
    "go_fish()"
   ]
  },
  {
   "cell_type": "code",
   "execution_count": 28,
   "metadata": {},
   "outputs": [
    {
     "data": {
      "text/plain": [
       "['2', '3', '4', '5', '6', '7', '8', '9', '10', 'Jack', 'Queen', 'King', 'Ace']"
      ]
     },
     "execution_count": 28,
     "metadata": {},
     "output_type": "execute_result"
    }
   ],
   "source": [
    "RANKS = [str(x) for x in range(2,11)] + ['Jack', 'Queen','King','Ace']\n",
    "RANKS"
   ]
  },
  {
   "cell_type": "code",
   "execution_count": 29,
   "metadata": {
    "collapsed": true
   },
   "outputs": [],
   "source": [
    "# Sean example for Classes\n",
    "class Card:\n",
    "    SUITS = {'Hearts', 'Spades', 'Diamonds','Clubs'}\n",
    "    RANKS = ['2', '3', '4', '5', '6', '7', '8', '9', '10', 'Jack', 'Queen', 'King', 'Ace']\n",
    "    \n",
    "    def __init__(self,suit,rank):\n",
    "        if suit in Card.SUITS and rank in Card.RANKS:\n",
    "            self.suit = suit\n",
    "            self.rank = rank\n",
    "        else:\n",
    "            raise(Exception(\"Invalid initialization\"))\n",
    "        #return self\n",
    "        \n",
    "    def __str__(self):\n",
    "        return '{} of {}'.format(self.rank, self.suit)"
   ]
  },
  {
   "cell_type": "code",
   "execution_count": 30,
   "metadata": {},
   "outputs": [
    {
     "name": "stdout",
     "output_type": "stream",
     "text": [
      "King of Clubs\n"
     ]
    }
   ],
   "source": [
    "c2 = Card(suit='Clubs', rank='King')\n",
    "print(c2)"
   ]
  },
  {
   "cell_type": "code",
   "execution_count": 31,
   "metadata": {
    "collapsed": true
   },
   "outputs": [],
   "source": [
    "import random\n",
    "class Deck:\n",
    "    def __init__(self):\n",
    "        self.cards = [Card(suit,rank)\n",
    "                     for suit in Card.SUITS\n",
    "                     for rank in Card.RANKS]\n",
    "        \n",
    "    def shuffle(self):\n",
    "        pass\n",
    "        "
   ]
  },
  {
   "cell_type": "code",
   "execution_count": 32,
   "metadata": {},
   "outputs": [
    {
     "ename": "NameError",
     "evalue": "name 'self' is not defined",
     "output_type": "error",
     "traceback": [
      "\u001b[0;31m---------------------------------------------------------------------------\u001b[0m",
      "\u001b[0;31mNameError\u001b[0m                                 Traceback (most recent call last)",
      "\u001b[0;32m<ipython-input-32-04a6e85c51fd>\u001b[0m in \u001b[0;36m<module>\u001b[0;34m()\u001b[0m\n\u001b[1;32m      1\u001b[0m \u001b[0;32mfor\u001b[0m \u001b[0msuit\u001b[0m \u001b[0;32min\u001b[0m \u001b[0mCard\u001b[0m\u001b[0;34m.\u001b[0m\u001b[0mSUITS\u001b[0m\u001b[0;34m:\u001b[0m\u001b[0;34m\u001b[0m\u001b[0m\n\u001b[1;32m      2\u001b[0m     \u001b[0;32mfor\u001b[0m \u001b[0mrank\u001b[0m \u001b[0;32min\u001b[0m \u001b[0mCard\u001b[0m\u001b[0;34m.\u001b[0m\u001b[0mRANKS\u001b[0m\u001b[0;34m:\u001b[0m\u001b[0;34m\u001b[0m\u001b[0m\n\u001b[0;32m----> 3\u001b[0;31m         \u001b[0mself\u001b[0m\u001b[0;34m.\u001b[0m\u001b[0mcards\u001b[0m\u001b[0;34m.\u001b[0m\u001b[0mappend\u001b[0m\u001b[0;34m(\u001b[0m\u001b[0mCard\u001b[0m\u001b[0;34m(\u001b[0m\u001b[0msuit\u001b[0m\u001b[0;34m,\u001b[0m\u001b[0mrank\u001b[0m\u001b[0;34m)\u001b[0m\u001b[0;34m)\u001b[0m\u001b[0;34m\u001b[0m\u001b[0m\n\u001b[0m",
      "\u001b[0;31mNameError\u001b[0m: name 'self' is not defined"
     ]
    }
   ],
   "source": [
    "for suit in Card.SUITS:\n",
    "    for rank in Card.RANKS:\n",
    "        self.cards.append(Card(suit,rank))"
   ]
  },
  {
   "cell_type": "code",
   "execution_count": 33,
   "metadata": {
    "collapsed": true
   },
   "outputs": [],
   "source": [
    "new_deck = Deck()"
   ]
  },
  {
   "cell_type": "code",
   "execution_count": 35,
   "metadata": {},
   "outputs": [
    {
     "ename": "TypeError",
     "evalue": "'Deck' object is not iterable",
     "output_type": "error",
     "traceback": [
      "\u001b[0;31m---------------------------------------------------------------------------\u001b[0m",
      "\u001b[0;31mTypeError\u001b[0m                                 Traceback (most recent call last)",
      "\u001b[0;32m<ipython-input-35-ec792cdcc7f7>\u001b[0m in \u001b[0;36m<module>\u001b[0;34m()\u001b[0m\n\u001b[0;32m----> 1\u001b[0;31m \u001b[0;32mfor\u001b[0m \u001b[0mcard\u001b[0m \u001b[0;32min\u001b[0m \u001b[0mnew_deck\u001b[0m\u001b[0;34m:\u001b[0m\u001b[0;34m\u001b[0m\u001b[0m\n\u001b[0m\u001b[1;32m      2\u001b[0m     \u001b[0mprint\u001b[0m\u001b[0;34m(\u001b[0m\u001b[0mcard\u001b[0m\u001b[0;34m)\u001b[0m\u001b[0;34m\u001b[0m\u001b[0m\n",
      "\u001b[0;31mTypeError\u001b[0m: 'Deck' object is not iterable"
     ]
    }
   ],
   "source": []
  },
  {
   "cell_type": "code",
   "execution_count": null,
   "metadata": {
    "collapsed": true
   },
   "outputs": [],
   "source": []
  },
  {
   "cell_type": "code",
   "execution_count": null,
   "metadata": {
    "collapsed": true
   },
   "outputs": [],
   "source": []
  },
  {
   "cell_type": "code",
   "execution_count": null,
   "metadata": {
    "collapsed": true
   },
   "outputs": [],
   "source": []
  },
  {
   "cell_type": "code",
   "execution_count": null,
   "metadata": {
    "collapsed": true
   },
   "outputs": [],
   "source": [
    "c1 = Card('Hearts', 'Ace')\n",
    "c1"
   ]
  },
  {
   "cell_type": "code",
   "execution_count": null,
   "metadata": {
    "collapsed": true
   },
   "outputs": [],
   "source": [
    "c2 = Card('dog', 'cats')"
   ]
  },
  {
   "cell_type": "code",
   "execution_count": null,
   "metadata": {
    "collapsed": true
   },
   "outputs": [],
   "source": []
  }
 ],
 "metadata": {
  "kernelspec": {
   "display_name": "Python 3",
   "language": "python",
   "name": "python3"
  },
  "language_info": {
   "codemirror_mode": {
    "name": "ipython",
    "version": 3
   },
   "file_extension": ".py",
   "mimetype": "text/x-python",
   "name": "python",
   "nbconvert_exporter": "python",
   "pygments_lexer": "ipython3",
   "version": "3.6.3"
  }
 },
 "nbformat": 4,
 "nbformat_minor": 2
}

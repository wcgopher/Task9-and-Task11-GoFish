{
 "cells": [
  {
   "cell_type": "code",
   "execution_count": 5,
   "metadata": {},
   "outputs": [
    {
     "data": {
      "text/plain": [
       "['2', '3', '4', '5', '6', '7', '8', '9', '10', 'Jack', 'Queen', 'King', 'Ace']"
      ]
     },
     "execution_count": 5,
     "metadata": {},
     "output_type": "execute_result"
    }
   ],
   "source": []
  },
  {
   "cell_type": "code",
   "execution_count": 50,
   "metadata": {
    "collapsed": true
   },
   "outputs": [],
   "source": [
    "# Sean example for Classes\n",
    "class Card:\n",
    "    SUITS = {'Hearts', 'Spades', 'Diamonds','Clubs'}\n",
    "    RANKS = ['2', '3', '4', '5', '6', '7', '8', '9', '10', 'Jack', 'Queen', 'King', 'Ace']\n",
    "    \n",
    "    def __init__(self,suit,rank):\n",
    "        if suit in Card.SUITS and rank in Card.RANKS:\n",
    "            self.suit = suit\n",
    "            self.rank = rank\n",
    "        else:\n",
    "            raise(Exception(\"Invalid initialization\"))\n",
    "        #return self\n",
    "        \n",
    "    def __str__(self):\n",
    "        return '{} of {}'.format(self.rank, self.suit)"
   ]
  },
  {
   "cell_type": "code",
   "execution_count": 51,
   "metadata": {},
   "outputs": [
    {
     "name": "stdout",
     "output_type": "stream",
     "text": [
      "King of Clubs\n"
     ]
    }
   ],
   "source": [
    "c2 = Card(suit='Clubs', rank='King')\n",
    "c2\n",
    "print(c2)"
   ]
  },
  {
   "cell_type": "code",
   "execution_count": 52,
   "metadata": {},
   "outputs": [],
   "source": [
    "from random import shuffle\n",
    "class Card:\n",
    "    SUITS = {'Hearts', 'Spades', 'Diamonds','Clubs'}\n",
    "    RANKS = ['2', '3', '4', '5', '6', '7', '8', '9', '10', 'Jack', 'Queen', 'King', 'Ace']\n",
    "    \n",
    "    def __init__(self,suit,rank):\n",
    "        if suit in Card.SUITS and rank in Card.RANKS:\n",
    "            self.suit = suit\n",
    "            self.rank = rank\n",
    "        else:\n",
    "            raise(Exception(\"Invalid initialization\"))\n",
    "        #return self\n",
    "        \n",
    "    def __str__(self):\n",
    "        return '{} of {}'.format(self.rank, self.suit)\n",
    "    \n",
    "class Deck:\n",
    "    def __init__(self):\n",
    "        self.pool = [Card(suit,rank)\n",
    "                     for suit in Card.SUITS\n",
    "                     for rank in Card.RANKS]\n",
    "        self.shuffle()\n",
    "\n",
    "    def cards_left(self):\n",
    "        print('There are {} cards left'.format(len[self.pool]))\n",
    "    def shuffle(self):\n",
    "        shuffle(self.pool)\n",
    "        \n",
    "    def draw(self, hand,n = 1):\n",
    "        for _ in range(0,n):\n",
    "            hand.append(self.pool.pop()) \n",
    "            \n",
    "        \n",
    "class Player:\n",
    "    def __init__(self, name):\n",
    "        self.hand = []\n",
    "        self.pairs = []\n",
    "        self.name = name\n",
    "        \n",
    "def print_hand(cards):\n",
    "    for i in cards:\n",
    "        print(i)\n",
    "\n",
    "def go_fish():\n",
    "    deck = Deck()    \n",
    "    player1_hand = []\n",
    "    player2_hand = []\n",
    "    \n",
    "    deck.draw(player1_hand,n=5)\n",
    "    deck.draw(player2_hand,n=5)\n",
    "    print('\\nPlayer 1 has:')\n",
    "    print_hand(player1_hand)\n",
    "    print('\\nPlayer 2 has:')\n",
    "    print_hand(player2_hand)\n"
   ]
  },
  {
   "cell_type": "code",
   "execution_count": 53,
   "metadata": {},
   "outputs": [
    {
     "name": "stdout",
     "output_type": "stream",
     "text": [
      "\n",
      "Player 1 has:\n",
      "Jack of Spades\n",
      "5 of Hearts\n",
      "2 of Spades\n",
      "King of Spades\n",
      "5 of Diamonds\n",
      "\n",
      "Player 2 has:\n",
      "4 of Hearts\n",
      "2 of Diamonds\n",
      "Queen of Spades\n",
      "Ace of Diamonds\n",
      "6 of Clubs\n"
     ]
    }
   ],
   "source": [
    "go_fish()"
   ]
  },
  {
   "cell_type": "code",
   "execution_count": null,
   "metadata": {},
   "outputs": [],
   "source": []
  },
  {
   "cell_type": "code",
   "execution_count": 56,
   "metadata": {},
   "outputs": [
    {
     "name": "stdout",
     "output_type": "stream",
     "text": [
      "<__main__.Deck object at 0x10fcef9e8>\n"
     ]
    }
   ],
   "source": [
    "new_deck = Deck()\n",
    "print(new_deck)\n"
   ]
  },
  {
   "cell_type": "code",
   "execution_count": null,
   "metadata": {},
   "outputs": [],
   "source": []
  },
  {
   "cell_type": "code",
   "execution_count": null,
   "metadata": {
    "collapsed": true
   },
   "outputs": [],
   "source": [
    "def go_fish(players = 2, decks = 1):\n",
    "    "
   ]
  },
  {
   "cell_type": "code",
   "execution_count": null,
   "metadata": {},
   "outputs": [],
   "source": []
  },
  {
   "cell_type": "code",
   "execution_count": null,
   "metadata": {},
   "outputs": [],
   "source": []
  },
  {
   "cell_type": "code",
   "execution_count": null,
   "metadata": {},
   "outputs": [],
   "source": []
  },
  {
   "cell_type": "code",
   "execution_count": null,
   "metadata": {},
   "outputs": [],
   "source": []
  },
  {
   "cell_type": "code",
   "execution_count": null,
   "metadata": {},
   "outputs": [],
   "source": []
  },
  {
   "cell_type": "code",
   "execution_count": null,
   "metadata": {},
   "outputs": [],
   "source": []
  },
  {
   "cell_type": "code",
   "execution_count": null,
   "metadata": {
    "collapsed": true
   },
   "outputs": [],
   "source": []
  }
 ],
 "metadata": {
  "kernelspec": {
   "display_name": "Python 3",
   "language": "python",
   "name": "python3"
  },
  "language_info": {
   "codemirror_mode": {
    "name": "ipython",
    "version": 3
   },
   "file_extension": ".py",
   "mimetype": "text/x-python",
   "name": "python",
   "nbconvert_exporter": "python",
   "pygments_lexer": "ipython3",
   "version": "3.6.3"
  }
 },
 "nbformat": 4,
 "nbformat_minor": 2
}
